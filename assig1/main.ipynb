{
 "cells": [
  {
   "cell_type": "code",
   "execution_count": null,
   "metadata": {},
   "outputs": [],
   "source": [
    "import cv2\n",
    "from matplotlib import pyplot as plt\n",
    "\n",
    "grayscale_image = cv2.imread('assets/centro_dia.jpg')\n",
    "grayscale_image = cv2.cvtColor(grayscale_image, cv2.COLOR_BGR2GRAY)\n",
    "\n",
    "def plot_grayscale_image_hist(image: cv2.typing.MatLike, title):\n",
    "    hist = cv2.calcHist([image], [0], None, [256], [0, 256])\n",
    "\n",
    "    _, axs = plt.subplots(1, 2, figsize=(10, 5))\n",
    "\n",
    "    axs[0].axis(\"off\")\n",
    "    axs[0].imshow(image, cmap='gray')\n",
    "\n",
    "    axs[1].set_title('Histograma')\n",
    "    axs[1].set_xlabel(\"intensidade do pixel\")\n",
    "    axs[1].set_ylabel(\"n° de pixels\")\n",
    "    axs[1].plot(hist)\n",
    "    plt.xlim([0, 256])\n",
    "\n",
    "    plt.show()\n",
    "\n",
    "plot_grayscale_image_hist(grayscale_image, 'centr')"
   ]
  },
  {
   "cell_type": "code",
   "execution_count": null,
   "metadata": {},
   "outputs": [],
   "source": [
    "equalized_grayscale_image = cv2.equalizeHist(grayscale_image)\n",
    " \n",
    "plot_grayscale_image_hist(equalized_grayscale_image)"
   ]
  },
  {
   "cell_type": "code",
   "execution_count": null,
   "metadata": {},
   "outputs": [],
   "source": [
    "negative_grayscale_image = abs(255-grayscale_image)\n",
    "\n",
    "plot_grayscale_image_hist(negative_grayscale_image)"
   ]
  },
  {
   "cell_type": "code",
   "execution_count": null,
   "metadata": {},
   "outputs": [],
   "source": [
    "import imutils\n",
    "\n",
    "colored_image = cv2.imread('assets/centro_dia.jpg')\n",
    "def plot_colored_image_hist(image: cv2.typing.MatLike, title: str = 'Histograma'):\n",
    "    chans = cv2.split(image)\n",
    "    colors = (\"b\", \"g\", \"r\")\n",
    "\n",
    "    _, axs = plt.subplots(1, 2, figsize=(10, 5))\n",
    "\n",
    "    axs[0].axis(\"off\")\n",
    "    axs[0].imshow(imutils.opencv2matplotlib(image))\n",
    "\n",
    "    axs[1].set_title(title)\n",
    "    axs[1].set_xlabel(\"intensidade do pixel\")\n",
    "    axs[1].set_ylabel(\"n° de pixels\")\n",
    "\n",
    "    for (chan, color) in zip(chans, colors):\n",
    "        hist = cv2.calcHist([chan], [0], None, [256], [0, 256])\n",
    "\n",
    "        axs[1].plot(hist, color=color)\n",
    "        plt.xlim([0, 256])\n",
    "\n",
    "    plt.show()\n",
    "\n",
    "plot_colored_image_hist(colored_image)"
   ]
  },
  {
   "cell_type": "code",
   "execution_count": null,
   "metadata": {},
   "outputs": [],
   "source": [
    "equalized_colored_image = cv2.cvtColor(colored_image, cv2.COLOR_BGR2YUV)\n",
    "equalized_colored_image[:, :, 0] = cv2.equalizeHist(equalized_colored_image[:, :, 0])\n",
    "\n",
    "equalized_colored_image = cv2.cvtColor(equalized_colored_image, cv2.COLOR_YUV2BGR)\n",
    "plot_colored_image_hist(equalized_colored_image)"
   ]
  },
  {
   "cell_type": "code",
   "execution_count": null,
   "metadata": {},
   "outputs": [],
   "source": [
    "negative_colored_image = abs(255-colored_image)\n",
    "\n",
    "plot_colored_image_hist(negative_colored_image)"
   ]
  }
 ],
 "metadata": {
  "kernelspec": {
   "display_name": ".venv",
   "language": "python",
   "name": "python3"
  },
  "language_info": {
   "codemirror_mode": {
    "name": "ipython",
    "version": 3
   },
   "file_extension": ".py",
   "mimetype": "text/x-python",
   "name": "python",
   "nbconvert_exporter": "python",
   "pygments_lexer": "ipython3",
   "version": "3.12.5"
  }
 },
 "nbformat": 4,
 "nbformat_minor": 2
}
